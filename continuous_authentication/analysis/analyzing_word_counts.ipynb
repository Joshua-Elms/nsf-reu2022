{
 "cells": [
  {
   "cell_type": "code",
   "execution_count": 13,
   "metadata": {},
   "outputs": [],
   "source": [
    "import numpy as np\n",
    "import matplotlib.pyplot as plt\n",
    "import seaborn as sns\n",
    "from pathlib import PurePath"
   ]
  },
  {
   "cell_type": "code",
   "execution_count": 14,
   "metadata": {},
   "outputs": [],
   "source": [
    "data = \"../simulation/word_occurences.csv\"\n",
    "path = PurePath(data)\n",
    "\n",
    "genuine = []\n",
    "imposter = []\n",
    "with open(path, \"r\") as f:\n",
    "    lines = f.readlines()\n",
    "    for line in lines:\n",
    "        text = line.rstrip(\"\\n\")\n",
    "        if text[0] == \"-\":\n",
    "            genuine.append(int(text[1:]))\n",
    "           \n",
    "        else:\n",
    "            imposter.append(int(text))"
   ]
  },
  {
   "cell_type": "code",
   "execution_count": 15,
   "metadata": {},
   "outputs": [],
   "source": [
    "out = PurePath(\"occurence_counts_two_col.csv\")\n",
    "writes = []\n",
    "for i, item in enumerate(imposter):\n",
    "    if i < len(genuine) - 1:\n",
    "        write = f\"{genuine[i]},{imposter[i]}\\n\"\n",
    "\n",
    "    else:\n",
    "        write = f\",{imposter[i]}\\n\"\n",
    "\n",
    "    writes.append(write)\n",
    "\n",
    "with open(out, \"w\") as f:\n",
    "    f.write(\"genuine,imposter\\n\")\n",
    "    for line in writes:\n",
    "        f.write(line)\n"
   ]
  }
 ],
 "metadata": {
  "kernelspec": {
   "display_name": "Python 3.10.4 ('rising_sun')",
   "language": "python",
   "name": "python3"
  },
  "language_info": {
   "codemirror_mode": {
    "name": "ipython",
    "version": 3
   },
   "file_extension": ".py",
   "mimetype": "text/x-python",
   "name": "python",
   "nbconvert_exporter": "python",
   "pygments_lexer": "ipython3",
   "version": "3.10.4"
  },
  "orig_nbformat": 4,
  "vscode": {
   "interpreter": {
    "hash": "bebecaaf41780d017764b59d9fbf95c0501ae565161cbfe7bdcfa8b1930c3dd6"
   }
  }
 },
 "nbformat": 4,
 "nbformat_minor": 2
}
