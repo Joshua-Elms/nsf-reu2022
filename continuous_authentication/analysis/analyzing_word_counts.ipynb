{
 "cells": [
  {
   "cell_type": "code",
   "execution_count": 6,
   "metadata": {},
   "outputs": [],
   "source": [
    "import numpy as np\n",
    "import matplotlib.pyplot as plt\n",
    "import seaborn as sns\n",
    "from pathlib import PurePath"
   ]
  },
  {
   "cell_type": "code",
   "execution_count": 3,
   "metadata": {},
   "outputs": [
    {
     "name": "stdout",
     "output_type": "stream",
     "text": [
      "First ten lines of each: \n",
      "[14, 16, 17, 19, 13, 29, 16, 15, 18, 18]\n",
      "[6, 6, 7, 7, 6, 9, 8, 9, 11, 7]\n"
     ]
    }
   ],
   "source": [
    "data = \"../simulation/word_occurences.csv\"\n",
    "path = PurePath(data)\n",
    "\n",
    "genuine = []\n",
    "imposter = []\n",
    "with open(path, \"r\") as f:\n",
    "    lines = f.readlines()\n",
    "    for line in lines:\n",
    "        text = line.rstrip(\"\\n\")\n",
    "        if text[0] == \"-\":\n",
    "            genuine.append(int(text[1:]))\n",
    "           \n",
    "        else:\n",
    "            imposter.append(int(text))"
   ]
  },
  {
   "cell_type": "code",
   "execution_count": 12,
   "metadata": {},
   "outputs": [],
   "source": [
    "out = PurePath(\"occurence_counts_two_col.csv\")\n",
    "writes = []\n",
    "for i, item in enumerate(imposter):\n",
    "    if i < len(genuine) - 1:\n",
    "        write = f\"{genuine[i]},{imposter[i]}\\n\"\n",
    "\n",
    "    else:\n",
    "        write = f\",{imposter[i]}\\n\"\n",
    "\n",
    "    writes.append(write)\n",
    "\n",
    "with open(out, \"w\") as f:\n",
    "    f.write(\"genuine,imposter\\n\")\n",
    "    for line in writes:\n",
    "        f.write(line)\n"
   ]
  },
  {
   "cell_type": "code",
   "execution_count": null,
   "metadata": {},
   "outputs": [],
   "source": [
    "\"\""
   ]
  }
 ],
 "metadata": {
  "kernelspec": {
   "display_name": "Python 3.10.4 ('rising_sun')",
   "language": "python",
   "name": "python3"
  },
  "language_info": {
   "codemirror_mode": {
    "name": "ipython",
    "version": 3
   },
   "file_extension": ".py",
   "mimetype": "text/x-python",
   "name": "python",
   "nbconvert_exporter": "python",
   "pygments_lexer": "ipython3",
   "version": "3.10.4"
  },
  "orig_nbformat": 4,
  "vscode": {
   "interpreter": {
    "hash": "bebecaaf41780d017764b59d9fbf95c0501ae565161cbfe7bdcfa8b1930c3dd6"
   }
  }
 },
 "nbformat": 4,
 "nbformat_minor": 2
}
