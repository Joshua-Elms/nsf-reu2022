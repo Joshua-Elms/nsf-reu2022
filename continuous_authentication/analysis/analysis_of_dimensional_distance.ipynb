{
 "cells": [
  {
   "cell_type": "code",
   "execution_count": 2,
   "metadata": {},
   "outputs": [],
   "source": [
    "import numpy as np"
   ]
  },
  {
   "cell_type": "code",
   "execution_count": 3,
   "metadata": {},
   "outputs": [],
   "source": [
    "word_lst = [\"gat\", \"nine\", \"strap\", \"blicky\", \"extendo\", \"ninaross\", \"chopstick\", \"deucedeuce\"]"
   ]
  },
  {
   "cell_type": "code",
   "execution_count": 4,
   "metadata": {},
   "outputs": [],
   "source": [
    "rng = np.random.default_rng(420)"
   ]
  },
  {
   "cell_type": "code",
   "execution_count": 5,
   "metadata": {},
   "outputs": [],
   "source": [
    "num_iters = 100\n",
    "i_t = 5\n",
    "fields = lambda x: (x * 5) - 4\n",
    "random_vectors = [rng.normal(loc=5, scale=2, size=(num_iters, i_t + 1, fields(len(word)))) for word in word_lst]"
   ]
  },
  {
   "cell_type": "code",
   "execution_count": 6,
   "metadata": {},
   "outputs": [
    {
     "name": "stdout",
     "output_type": "stream",
     "text": [
      "56.38982393671004\n",
      "75.90917048224291\n",
      "108.33661510357591\n",
      "142.04533438733\n",
      "164.83457837734974\n",
      "178.24106893255004\n",
      "210.09374211439462\n",
      "231.99269787084697\n"
     ]
    }
   ],
   "source": [
    "acc_by_word = []\n",
    "for i, arr in enumerate(random_vectors):\n",
    "    trains = arr[:, 0:i_t, :]\n",
    "    stds = np.std(trains, axis = 1)\n",
    "    means = np.mean(trains, axis=1)\n",
    "    tests = arr[:, -1, :]\n",
    "    diffs = np.abs(means - tests)\n",
    "    diffs = np.square(np.abs(trains[:, 0, :] - tests))\n",
    "    scaled_diffs = diffs / stds\n",
    "    dists = np.sum(scaled_diffs, 1)\n",
    "    mean_dist = np.mean(dists)\n",
    "    print(mean_dist)\n"
   ]
  }
 ],
 "metadata": {
  "kernelspec": {
   "display_name": "Python 3.10.4 ('rising_sun')",
   "language": "python",
   "name": "python3"
  },
  "language_info": {
   "codemirror_mode": {
    "name": "ipython",
    "version": 3
   },
   "file_extension": ".py",
   "mimetype": "text/x-python",
   "name": "python",
   "nbconvert_exporter": "python",
   "pygments_lexer": "ipython3",
   "version": "3.10.4"
  },
  "orig_nbformat": 4,
  "vscode": {
   "interpreter": {
    "hash": "bebecaaf41780d017764b59d9fbf95c0501ae565161cbfe7bdcfa8b1930c3dd6"
   }
  }
 },
 "nbformat": 4,
 "nbformat_minor": 2
}
