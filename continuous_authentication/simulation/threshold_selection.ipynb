{
 "cells": [
  {
   "cell_type": "code",
   "execution_count": 7,
   "metadata": {},
   "outputs": [],
   "source": [
    "import numpy as np"
   ]
  },
  {
   "cell_type": "code",
   "execution_count": 8,
   "metadata": {},
   "outputs": [],
   "source": [
    "seed = 420\n",
    "rng = np.random.default_rng(seed)"
   ]
  },
  {
   "cell_type": "code",
   "execution_count": 15,
   "metadata": {},
   "outputs": [],
   "source": [
    "n = rng.normal(loc=1000, scale=100000, size=(100,)) # modify size to change len of array\n",
    "synth_test = n[n > 0]"
   ]
  },
  {
   "cell_type": "code",
   "execution_count": 16,
   "metadata": {},
   "outputs": [
    {
     "data": {
      "text/plain": [
       "array([   909.92971166,   2735.40603521,   3555.43818323,   4464.51545233,\n",
       "         7241.63125333,   9395.28365282,  10809.08386949,  13734.30694519,\n",
       "        14249.30624331,  17597.59243476,  22321.80551866,  28831.61239816,\n",
       "        29386.45135494,  30795.65709521,  36053.36274542,  38483.78389356,\n",
       "        45148.74377548,  48482.60957163,  49950.55906223,  50297.37322817,\n",
       "        52127.46472334,  52501.25487416,  52714.75092741,  58281.43499784,\n",
       "        59113.92355983,  61057.93431008,  62388.03346736,  74833.54837242,\n",
       "        74909.04620756,  76815.9338574 ,  77765.44241629, 100839.48944994,\n",
       "       107156.63592588, 118629.45732147, 120357.46723436, 123249.57222044,\n",
       "       132701.16249383, 134571.38423638, 136491.31750598, 144979.60487739,\n",
       "       154925.06827562, 155234.33052914, 171929.8140821 , 192958.65081766,\n",
       "       193935.31629576, 206099.88490018, 214423.10968159, 266041.92419788])"
      ]
     },
     "execution_count": 16,
     "metadata": {},
     "output_type": "execute_result"
    }
   ],
   "source": [
    "synth_test.sort()\n",
    "#len(synth_test)\n",
    "synth_test\n"
   ]
  },
  {
   "cell_type": "code",
   "execution_count": 17,
   "metadata": {},
   "outputs": [
    {
     "data": {
      "text/plain": [
       "11"
      ]
     },
     "execution_count": 17,
     "metadata": {},
     "output_type": "execute_result"
    }
   ],
   "source": [
    "def split_list(lst, n):  \n",
    "    for i in range(0, len(lst), n): \n",
    "        yield lst[i:i + n] \n",
    "n = int(len(synth_test)/4 -1)\n",
    "output = list(split_list(synth_test,n))\n",
    "n\n",
    "\n"
   ]
  },
  {
   "cell_type": "code",
   "execution_count": 22,
   "metadata": {},
   "outputs": [
    {
     "data": {
      "text/plain": [
       "[35.83764251179081,\n",
       " 39.6165283734497,\n",
       " 91.12087281980463,\n",
       " 124.40680530358489,\n",
       " 120.68680296983044]"
      ]
     },
     "execution_count": 22,
     "metadata": {},
     "output_type": "execute_result"
    }
   ],
   "source": [
    "\n",
    "maxes=[]\n",
    "mins = []\n",
    "step_sizes = []\n",
    "\n",
    "\n",
    "for i in range(len(output)):\n",
    "    \n",
    "    maxes.append(output[i][-1])\n",
    "    mins.append(output[i][0])\n",
    "maxes_and_mins = [maxes,mins]\n",
    "\n",
    "for i in range(len(maxes_and_mins[0])):\n",
    "    step_size = (maxes_and_mins[0][i] - maxes_and_mins[1][i])/(np.std(synth_test)/n)*10\n",
    "    step_sizes.append(step_size)\n",
    "step_sizes\n"
   ]
  }
 ],
 "metadata": {
  "kernelspec": {
   "display_name": "Python 3.10.4 ('rising_sun')",
   "language": "python",
   "name": "python3"
  },
  "language_info": {
   "codemirror_mode": {
    "name": "ipython",
    "version": 3
   },
   "file_extension": ".py",
   "mimetype": "text/x-python",
   "name": "python",
   "nbconvert_exporter": "python",
   "pygments_lexer": "ipython3",
   "version": "3.10.4"
  },
  "orig_nbformat": 4,
  "vscode": {
   "interpreter": {
    "hash": "bebecaaf41780d017764b59d9fbf95c0501ae565161cbfe7bdcfa8b1930c3dd6"
   }
  }
 },
 "nbformat": 4,
 "nbformat_minor": 2
}
