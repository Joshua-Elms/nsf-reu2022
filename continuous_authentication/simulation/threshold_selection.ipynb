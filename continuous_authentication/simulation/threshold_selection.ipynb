{
 "cells": [
  {
   "cell_type": "code",
   "execution_count": 49,
   "metadata": {},
   "outputs": [],
   "source": [
    "import numpy as np"
   ]
  },
  {
   "cell_type": "code",
   "execution_count": 50,
   "metadata": {},
   "outputs": [],
   "source": [
    "seed = 420\n",
    "rng = np.random.default_rng(seed)"
   ]
  },
  {
   "cell_type": "code",
   "execution_count": 51,
   "metadata": {},
   "outputs": [],
   "source": [
    "n = rng.normal(loc=1000, scale=10000, size=(100,)) # modify size to change len of array\n",
    "synth_test = n[n > 0]"
   ]
  },
  {
   "cell_type": "code",
   "execution_count": 52,
   "metadata": {},
   "outputs": [
    {
     "data": {
      "text/plain": [
       "57"
      ]
     },
     "execution_count": 52,
     "metadata": {},
     "output_type": "execute_result"
    }
   ],
   "source": [
    "synth_test.sort()\n",
    "len(synth_test)\n"
   ]
  },
  {
   "cell_type": "code",
   "execution_count": 66,
   "metadata": {},
   "outputs": [
    {
     "data": {
      "text/plain": [
       "13"
      ]
     },
     "execution_count": 66,
     "metadata": {},
     "output_type": "execute_result"
    }
   ],
   "source": [
    "def split_list(lst, n):  \n",
    "    for i in range(0, len(lst), n): \n",
    "        yield lst[i:i + n] \n",
    "n = int(len(synth_test)/4 -1)\n",
    "output = list(split_list(synth_test,n))\n",
    "n\n",
    "\n"
   ]
  },
  {
   "cell_type": "code",
   "execution_count": 68,
   "metadata": {},
   "outputs": [
    {
     "data": {
      "text/plain": [
       "[178.94578494901057,\n",
       " 133.85894840881065,\n",
       " 322.32190253819107,\n",
       " 383.5444584534668,\n",
       " 532.1907445370673]"
      ]
     },
     "execution_count": 68,
     "metadata": {},
     "output_type": "execute_result"
    }
   ],
   "source": [
    "\n",
    "maxes=[]\n",
    "mins = []\n",
    "step_sizes = []\n",
    "\n",
    "\n",
    "for i in range(len(output)):\n",
    "    \n",
    "    maxes.append(output[i][-1])\n",
    "    mins.append(output[i][0])\n",
    "maxes_and_mins = [maxes,mins]\n",
    "\n",
    "for i in range(len(maxes_and_mins[0])):\n",
    "    step_size = (maxes_and_mins[0][i] - maxes_and_mins[1][i])/n\n",
    "    step_sizes.append(step_size)\n",
    "step_sizes\n"
   ]
  }
 ],
 "metadata": {
  "kernelspec": {
   "display_name": "Python 3.10.4 ('rising_sun')",
   "language": "python",
   "name": "python3"
  },
  "language_info": {
   "codemirror_mode": {
    "name": "ipython",
    "version": 3
   },
   "file_extension": ".py",
   "mimetype": "text/x-python",
   "name": "python",
   "nbconvert_exporter": "python",
   "pygments_lexer": "ipython3",
   "version": "3.10.4"
  },
  "orig_nbformat": 4,
  "vscode": {
   "interpreter": {
    "hash": "bebecaaf41780d017764b59d9fbf95c0501ae565161cbfe7bdcfa8b1930c3dd6"
   }
  }
 },
 "nbformat": 4,
 "nbformat_minor": 2
}
