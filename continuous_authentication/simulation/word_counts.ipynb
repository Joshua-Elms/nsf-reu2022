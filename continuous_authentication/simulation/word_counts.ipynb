{
 "cells": [
  {
   "cell_type": "code",
   "execution_count": 9,
   "metadata": {},
   "outputs": [],
   "source": [
    "import seaborn as sns\n",
    "import matplotlib.pyplot as plt\n",
    "import os\n",
    "from pathlib import PurePath\n",
    "import csv"
   ]
  },
  {
   "cell_type": "code",
   "execution_count": 10,
   "metadata": {},
   "outputs": [],
   "source": [
    "import sys\n",
    "sys.path.append(\"../../\")"
   ]
  },
  {
   "cell_type": "code",
   "execution_count": 11,
   "metadata": {},
   "outputs": [],
   "source": [
    "default_time_series_path = PurePath(\"../../data/user_time_series/\")\n",
    "user_list = [user for user in os.listdir(default_time_series_path) if user != \".DS_Store\"]\n",
    "\n",
    "i=0\n",
    "user_word_counts = []\n",
    "sums= []\n",
    "while i < len(user_list):\n",
    "    input_file = open(f\"../../data/user_time_series/{user_list[i]}\",\"r+\")\n",
    "    reader_file = csv.reader(input_file, delimiter = \"\\t\")\n",
    "    csv_ = list(reader_file)\n",
    "    all_digraphs = [int(csv_[i][2]) for i in range(len(csv_))]\n",
    "    sum_of_digraphs = sum(all_digraphs)\n",
    "    sums.append(sum_of_digraphs)\n",
    "    value = len(list(reader_file))\n",
    "    wc_and_file = [value,user_list[i]]\n",
    "    user_word_counts.append(wc_and_file)\n",
    "    i += 1\n",
    "\n",
    "\n",
    "\n",
    "\n",
    "    "
   ]
  },
  {
   "cell_type": "code",
   "execution_count": 15,
   "metadata": {},
   "outputs": [
    {
     "data": {
      "text/plain": [
       "60488"
      ]
     },
     "execution_count": 15,
     "metadata": {},
     "output_type": "execute_result"
    }
   ],
   "source": [
    "def digraphs_in_file(file):\n",
    "    input_file = open(f\"../../data/user_time_series/{file}\",\"r+\")\n",
    "    reader_file = csv.reader(input_file, delimiter = \"\\t\")\n",
    "    csv_ = list(reader_file)\n",
    "    all_digraphs = [int(csv_[i][2]) for i in range(len(csv_))]\n",
    "    sum_of_digraphs = sum(all_digraphs)\n",
    "\n",
    "    return sum_of_digraphs\n",
    "\n",
    "default_time_series_path = PurePath(\"../../data/user_time_series/\")\n",
    "user_list = [user for user in os.listdir(default_time_series_path) if user != \".DS_Store\"]\n",
    "\n",
    "test = digraphs_in_file(user_list[0])\n",
    "test\n"
   ]
  }
 ],
 "metadata": {
  "interpreter": {
   "hash": "4daf41006bd85d012da4b56b5d5a2b84dba49b149e1ca17f1a11001a8eccc3f9"
  },
  "kernelspec": {
   "display_name": "Python 3.10.4 ('reu')",
   "language": "python",
   "name": "python3"
  },
  "language_info": {
   "codemirror_mode": {
    "name": "ipython",
    "version": 3
   },
   "file_extension": ".py",
   "mimetype": "text/x-python",
   "name": "python",
   "nbconvert_exporter": "python",
   "pygments_lexer": "ipython3",
   "version": "3.10.4"
  },
  "orig_nbformat": 4
 },
 "nbformat": 4,
 "nbformat_minor": 2
}
