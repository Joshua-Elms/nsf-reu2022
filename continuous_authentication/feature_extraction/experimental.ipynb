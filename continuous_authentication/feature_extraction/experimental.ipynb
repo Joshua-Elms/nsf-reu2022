{
 "cells": [
  {
   "cell_type": "markdown",
   "metadata": {},
   "source": [
    "## This notebook provides an experimental interface for extracting data from the C2 Dataset\n",
    "\n",
    "### List of features to be extracted:\n",
    "* Monographs\n",
    "* DU, DD, UD, UU Digraphs\n",
    "* _Other n-graphs_\n",
    "* "
   ]
  },
  {
   "cell_type": "code",
   "execution_count": null,
   "metadata": {},
   "outputs": [],
   "source": []
  }
 ],
 "metadata": {
  "language_info": {
   "name": "python"
  },
  "orig_nbformat": 4
 },
 "nbformat": 4,
 "nbformat_minor": 2
}
