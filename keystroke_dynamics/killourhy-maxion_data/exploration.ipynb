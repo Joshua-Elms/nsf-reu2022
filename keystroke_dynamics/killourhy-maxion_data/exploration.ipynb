{
 "cells": [
  {
   "cell_type": "code",
   "execution_count": 86,
   "metadata": {},
   "outputs": [],
   "source": [
    "# bringing in necessary packages\n",
    "\n",
    "import pandas as pd\n",
    "import numpy as np"
   ]
  },
  {
   "cell_type": "code",
   "execution_count": 87,
   "metadata": {},
   "outputs": [],
   "source": [
    "# configure environment\n",
    "\n",
    "np.set_printoptions(suppress=True)\n",
    "\n",
    "seed = 8675309\n",
    "rng = np.random.default_rng(seed)"
   ]
  },
  {
   "cell_type": "code",
   "execution_count": 88,
   "metadata": {},
   "outputs": [],
   "source": [
    "## reading in data (doesn't really get used, comment out if not)\n",
    "\n",
    "# data_in = \"/Users/joshuaelms/Desktop/github_repos/nsf-reu2022/keystroke_dynamics/killourhy-maxion_data/DSL-StrongPasswordData.csv\"\n",
    "# df = pd.read_csv(data_in, sep = \",\", header = 0)"
   ]
  },
  {
   "cell_type": "code",
   "execution_count": 89,
   "metadata": {},
   "outputs": [],
   "source": [
    "# synthetic data for testing\n",
    "dims = 2\n",
    "lims = (0, 3)\n",
    "num_train = 1000\n",
    "num_test = 10\n",
    "synth_train = rng.integers(low = lims[0], high = lims[1], size = (num_train, dims))\n",
    "synth_test = rng.integers(low = lims[0], high = lims[1], size = (num_test, dims))"
   ]
  },
  {
   "cell_type": "code",
   "execution_count": 90,
   "metadata": {},
   "outputs": [],
   "source": [
    "def squared_L2(train: np.ndarray, test: np.ndarray) -> np.ndarray:\n",
    "    \"\"\"\n",
    "    Calculate arithmetic mean of train along axis 1 (model)\n",
    "    Then compute pairwise distances between test entries and model\n",
    "\n",
    "    Args: \n",
    "        train: data to form model from\n",
    "        test: data to compare to model vector\n",
    "\n",
    "    Returns: vector of length = len(test)\n",
    "    \"\"\"\n",
    "    model = np.mean(train, axis = 0)\n",
    "    diffs = model[np.newaxis, :] - test\n",
    "    squared_diffs = np.square(diffs)\n",
    "    sum_squared_diffs = np.sum(squared_diffs, axis = 1)\n",
    "\n",
    "    return sum_squared_diffs"
   ]
  },
  {
   "cell_type": "code",
   "execution_count": 91,
   "metadata": {},
   "outputs": [
    {
     "name": "stdout",
     "output_type": "stream",
     "text": [
      "[0.003497 1.877497 2.113497 1.893497 0.885497 1.877497 2.129497 1.011497\n",
      " 1.011497 1.121497]\n"
     ]
    }
   ],
   "source": [
    "out = squared_L2(synth_train, synth_test)\n",
    "print(out)"
   ]
  }
 ],
 "metadata": {
  "interpreter": {
   "hash": "bebecaaf41780d017764b59d9fbf95c0501ae565161cbfe7bdcfa8b1930c3dd6"
  },
  "kernelspec": {
   "display_name": "Python 3.10.4 ('rising_sun')",
   "language": "python",
   "name": "python3"
  },
  "language_info": {
   "codemirror_mode": {
    "name": "ipython",
    "version": 3
   },
   "file_extension": ".py",
   "mimetype": "text/x-python",
   "name": "python",
   "nbconvert_exporter": "python",
   "pygments_lexer": "ipython3",
   "version": "3.10.4"
  },
  "orig_nbformat": 4
 },
 "nbformat": 4,
 "nbformat_minor": 2
}
