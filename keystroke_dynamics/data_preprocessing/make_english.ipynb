{
 "cells": [
  {
   "cell_type": "code",
   "execution_count": 1,
   "metadata": {},
   "outputs": [],
   "source": [
    "import pandas as pd\n",
    "import numpy as np"
   ]
  },
  {
   "cell_type": "code",
   "execution_count": 29,
   "metadata": {},
   "outputs": [
    {
     "data": {
      "text/plain": [
       "'\\x10THE OTHERS RAISE THEIR EYEBROW\\x10WILL YOU AND \\x10K\\x10\\x08KB BE AROUND THUS AFTERNOON\\x10\\x10THROUGH HT\\x08\\x08THIS ACCOUNT CASH FLOWS TO CORPORATE\\x10IF SO WHATS\\x08 WAS IT\\x10\\x10IºM WAITING S\\x08UNTIL SHE COMES HOME\\x10¿\\x08\\x10THIS YEAR \\x10I CAN WALK AND ITÞS SO MUH\\x08CH BETTER\\x10I AM MONITORING M\\x08EMAIL\\x10WE CAN DISCUSS OPP\\x08TIONS EARLY NEXT WEEK\\x10I AM REALLY NOT WANTING TO COME BACK\\x10AVA¼ DO WE NEED TO WORRY ABOUT THIS\\x10\\x10THROW IT AWAY AND NOT LET IT TOUCH TO\\x08\\x08YOUR HEART\\x10OTHERS VOTING AGAINTS\\x08\\x08ST REPRESENTED THE DEFENCE\\x08\\x08SE MINISTRY\\x10IÞLL CALL YOU IN THE MORING\\x10THAT WOULD E\\x08BE A FITTING MEMORIAL TO THOSE WHO DIES¾\\x08\\x08D\\x10ID LUNCH DOESNÞT WORK THEN HOW ABOUT COFFEE\\x10'"
      ]
     },
     "execution_count": 29,
     "metadata": {},
     "output_type": "execute_result"
    }
   ],
   "source": [
    "# reading in data (doesn't really get used, comment out if not)\n",
    "\n",
    "data_in = \"../data/typenet_files/5.csv\"\n",
    "df = pd.read_csv(data_in, sep = \",\", header = 0)\n",
    "translate = lambda x: chr(round(255*x))\n",
    "df.id = df.id.apply(translate)\n",
    "\"\".join(df.id.values.tolist())\n"
   ]
  }
 ],
 "metadata": {
  "interpreter": {
   "hash": "79ead5273fb51568f47f32577c4215a7f827e64a88411a0a58e02365d42b353d"
  },
  "kernelspec": {
   "display_name": "Python 3.8.12 ('base')",
   "language": "python",
   "name": "python3"
  },
  "language_info": {
   "codemirror_mode": {
    "name": "ipython",
    "version": 3
   },
   "file_extension": ".py",
   "mimetype": "text/x-python",
   "name": "python",
   "nbconvert_exporter": "python",
   "pygments_lexer": "ipython3",
   "version": "3.8.12"
  },
  "orig_nbformat": 4
 },
 "nbformat": 4,
 "nbformat_minor": 2
}
